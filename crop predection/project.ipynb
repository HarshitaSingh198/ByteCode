{
 "cells": [
  {
   "cell_type": "code",
   "execution_count": 2,
   "metadata": {},
   "outputs": [
    {
     "name": "stdout",
     "output_type": "stream",
     "text": [
      "Predicted Crop Label: muskmelon,Kharif\n"
     ]
    }
   ],
   "source": [
    "import pandas as pd\n",
    "from sklearn.model_selection import train_test_split\n",
    "from sklearn.tree import DecisionTreeClassifier\n",
    "from sklearn.preprocessing import LabelEncoder\n",
    "\n",
    "\n",
    "data = pd.read_csv('D:\\Resume\\crop predection\\crop_pred.csv')\n",
    "\n",
    "\n",
    "encoder_dict = {}\n",
    "\n",
    "categorical_columns = ['divisions', 'States']\n",
    "\n",
    "for col in categorical_columns:\n",
    "    encoder = LabelEncoder()\n",
    "    data[col] = encoder.fit_transform(data[col])\n",
    "    encoder_dict[col] = encoder\n",
    "\n",
    "# Take user input for feature values\n",
    "user_input = {\n",
    "    'temperature': float(input(\"Enter temperature: \")),\n",
    "    'humidity': float(input(\"Enter humidity: \")),\n",
    "    'ph': float(input(\"Enter pH of the soil: \")),\n",
    "    'rainfall': float(input(\"Enter rainfall: \")),\n",
    "    'divisions': input(\"Enter DIVISIONS (e.g., cereals): \"),\n",
    "    'States': input(\"Enter States (e.g., UttarPradesh): \")\n",
    "}\n",
    "\n",
    "# Encode categorical columns in user input using label encoding with error handling\n",
    "for col in categorical_columns:\n",
    "    try:\n",
    "        user_input[col] = encoder_dict[col].transform([user_input[col]])[0]\n",
    "    except KeyError:\n",
    "        print(f\"Error: Unseen label '{user_input[col]}' encountered for column '{col}'. Please provide a valid label.\")\n",
    "        exit()\n",
    "\n",
    "# Convert user input to a DataFrame\n",
    "user_df = pd.DataFrame([user_input])\n",
    "\n",
    "# Use the same encoder to transform the training data\n",
    "X = data.drop('label', axis=1)\n",
    "y = data['label']\n",
    "\n",
    "# Split the dataset into training and testing sets\n",
    "X_train, X_test, y_train, y_test = train_test_split(X, y, test_size=0.2, random_state=42)\n",
    "\n",
    "# Initialize the Decision Tree Classifier\n",
    "model = DecisionTreeClassifier()\n",
    "\n",
    "# Train the model\n",
    "model.fit(X_train, y_train)\n",
    "\n",
    "# Make predictions\n",
    "predicted_label = model.predict(user_df)[0]\n",
    "\n",
    "print(f\"Predicted Crop Label: {predicted_label}\")\n"
   ]
  }
 ],
 "metadata": {
  "kernelspec": {
   "display_name": "Python 3",
   "language": "python",
   "name": "python3"
  },
  "language_info": {
   "codemirror_mode": {
    "name": "ipython",
    "version": 3
   },
   "file_extension": ".py",
   "mimetype": "text/x-python",
   "name": "python",
   "nbconvert_exporter": "python",
   "pygments_lexer": "ipython3",
   "version": "3.10.11"
  }
 },
 "nbformat": 4,
 "nbformat_minor": 2
}
